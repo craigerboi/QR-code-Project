{
 "cells": [
  {
   "cell_type": "markdown",
   "metadata": {},
   "source": [
    "# This is an outline of how the data was generated\n"
   ]
  },
  {
   "cell_type": "code",
   "execution_count": 1,
   "metadata": {
    "collapsed": true
   },
   "outputs": [],
   "source": [
    "import numpy as np\n",
    "\n",
    "from tqdm import tqdm\n",
    "import pickle\n",
    "from aflow import *\n",
    "import pandas as pd"
   ]
  },
  {
   "cell_type": "markdown",
   "metadata": {},
   "source": [
    "Using the aflow module written by Conrad Rosenbrock, we can query the AFLOW database subject to certain constraints which is very nice."
   ]
  },
  {
   "cell_type": "code",
   "execution_count": 2,
   "metadata": {
    "collapsed": true
   },
   "outputs": [],
   "source": [
    "heus_result = search(batch_size=10000\n",
    "                ).filter( K.natoms==4).filter(K.nspecies==3).filter((K.spacegroup_relax==216) |\n",
    "                    (K.spacegroup_relax==225) | (K.spacegroup_relax==119) | (K.spacegroup_relax==139)).select(\n",
    "                                                                                            K.enthalpy_formation_atom,\n",
    "                                                                                            K.spacegroup_relax,\n",
    "                                                                                            K.spin_atom,\n",
    "                                                                                            K.compound, \n",
    "                                                                                            K.volume_cell)\n",
    "\n",
    "heus_result.finalize()"
   ]
  },
  {
   "cell_type": "code",
   "execution_count": 3,
   "metadata": {
    "collapsed": false
   },
   "outputs": [
    {
     "name": "stderr",
     "output_type": "stream",
     "text": [
      "100%|██████████| 317509/317509 [07:17<00:00, 725.69it/s]\n"
     ]
    }
   ],
   "source": [
    "enthalpy_of_formation=[]\n",
    "mag_mom=[]\n",
    "compound=[]\n",
    "entries=[]\n",
    "space_group=[]\n",
    "volume=[]\n",
    "\n",
    "for entry in tqdm(heus_result):\n",
    "    enthalpy_of_formation.append(entry.enthalpy_formation_atom)\n",
    "    mag_mom.append(abs(entry.spin_atom))\n",
    "    compound.append(entry.compound)\n",
    "    entries.append(entry)\n",
    "    space_group.append(entry.spacegroup_relax)\n",
    "    volume.append(entry.volume_cell)"
   ]
  },
  {
   "cell_type": "code",
   "execution_count": 4,
   "metadata": {
    "collapsed": true
   },
   "outputs": [],
   "source": [
    "df = pd.DataFrame()\n",
    "df['Compound'] = compound\n",
    "df['spacegroup'] = space_group\n",
    "df['Formation_ene'] = enthalpy_of_formation\n",
    "df['Volume'] = volume\n",
    "df['Magnetic moment'] = mag_mom\n",
    "\n",
    "di = {225: 0, 216: 1, 139:2, 119:3}\n",
    "df['spacegroup'].replace(di, inplace=True)"
   ]
  },
  {
   "cell_type": "markdown",
   "metadata": {},
   "source": [
    "Now we have a dataset containing information on Heusler alloys and each one's simulated formation energy, space group, volume and magentic moment. Further work then must be done to represent each compound as a vector. All you need here is python dictionaries mapping strings of elements to values of chemical properties. Then you must make a function that can take a compound string as input and return a vector and you can do machine learning on the data!"
   ]
  },
  {
   "cell_type": "code",
   "execution_count": null,
   "metadata": {
    "collapsed": true
   },
   "outputs": [],
   "source": []
  }
 ],
 "metadata": {
  "kernelspec": {
   "display_name": "Python 3",
   "language": "python",
   "name": "python3"
  },
  "language_info": {
   "codemirror_mode": {
    "name": "ipython",
    "version": 3
   },
   "file_extension": ".py",
   "mimetype": "text/x-python",
   "name": "python",
   "nbconvert_exporter": "python",
   "pygments_lexer": "ipython3",
   "version": "3.6.0"
  }
 },
 "nbformat": 4,
 "nbformat_minor": 2
}
